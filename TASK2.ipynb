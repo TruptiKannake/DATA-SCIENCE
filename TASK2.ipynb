{
 "cells": [
  {
   "cell_type": "markdown",
   "id": "f1225258",
   "metadata": {},
   "source": [
    "# TASK2 - Stock Market Prediction And Forecasting Using Stacked LSTM"
   ]
  },
  {
   "cell_type": "markdown",
   "id": "97fb2d2e",
   "metadata": {},
   "source": [
    "# Import libraries"
   ]
  },
  {
   "cell_type": "code",
   "execution_count": 1,
   "id": "57f6060d",
   "metadata": {},
   "outputs": [],
   "source": [
    "import pandas as pd\n",
    "import numpy as np\n",
    "import matplotlib.pyplot as plt"
   ]
  },
  {
   "cell_type": "code",
   "execution_count": 3,
   "id": "afdcefa0",
   "metadata": {},
   "outputs": [
    {
     "data": {
      "text/html": [
       "<div>\n",
       "<style scoped>\n",
       "    .dataframe tbody tr th:only-of-type {\n",
       "        vertical-align: middle;\n",
       "    }\n",
       "\n",
       "    .dataframe tbody tr th {\n",
       "        vertical-align: top;\n",
       "    }\n",
       "\n",
       "    .dataframe thead th {\n",
       "        text-align: right;\n",
       "    }\n",
       "</style>\n",
       "<table border=\"1\" class=\"dataframe\">\n",
       "  <thead>\n",
       "    <tr style=\"text-align: right;\">\n",
       "      <th></th>\n",
       "      <th>Date</th>\n",
       "      <th>Open</th>\n",
       "      <th>High</th>\n",
       "      <th>Low</th>\n",
       "      <th>Last</th>\n",
       "      <th>Close</th>\n",
       "      <th>Total Trade Quantity</th>\n",
       "      <th>Turnover (Lacs)</th>\n",
       "    </tr>\n",
       "  </thead>\n",
       "  <tbody>\n",
       "    <tr>\n",
       "      <th>0</th>\n",
       "      <td>2018-09-28</td>\n",
       "      <td>234.05</td>\n",
       "      <td>235.95</td>\n",
       "      <td>230.20</td>\n",
       "      <td>233.50</td>\n",
       "      <td>233.75</td>\n",
       "      <td>3069914</td>\n",
       "      <td>7162.35</td>\n",
       "    </tr>\n",
       "    <tr>\n",
       "      <th>1</th>\n",
       "      <td>2018-09-27</td>\n",
       "      <td>234.55</td>\n",
       "      <td>236.80</td>\n",
       "      <td>231.10</td>\n",
       "      <td>233.80</td>\n",
       "      <td>233.25</td>\n",
       "      <td>5082859</td>\n",
       "      <td>11859.95</td>\n",
       "    </tr>\n",
       "    <tr>\n",
       "      <th>2</th>\n",
       "      <td>2018-09-26</td>\n",
       "      <td>240.00</td>\n",
       "      <td>240.00</td>\n",
       "      <td>232.50</td>\n",
       "      <td>235.00</td>\n",
       "      <td>234.25</td>\n",
       "      <td>2240909</td>\n",
       "      <td>5248.60</td>\n",
       "    </tr>\n",
       "    <tr>\n",
       "      <th>3</th>\n",
       "      <td>2018-09-25</td>\n",
       "      <td>233.30</td>\n",
       "      <td>236.75</td>\n",
       "      <td>232.00</td>\n",
       "      <td>236.25</td>\n",
       "      <td>236.10</td>\n",
       "      <td>2349368</td>\n",
       "      <td>5503.90</td>\n",
       "    </tr>\n",
       "    <tr>\n",
       "      <th>4</th>\n",
       "      <td>2018-09-24</td>\n",
       "      <td>233.55</td>\n",
       "      <td>239.20</td>\n",
       "      <td>230.75</td>\n",
       "      <td>234.00</td>\n",
       "      <td>233.30</td>\n",
       "      <td>3423509</td>\n",
       "      <td>7999.55</td>\n",
       "    </tr>\n",
       "    <tr>\n",
       "      <th>...</th>\n",
       "      <td>...</td>\n",
       "      <td>...</td>\n",
       "      <td>...</td>\n",
       "      <td>...</td>\n",
       "      <td>...</td>\n",
       "      <td>...</td>\n",
       "      <td>...</td>\n",
       "      <td>...</td>\n",
       "    </tr>\n",
       "    <tr>\n",
       "      <th>2030</th>\n",
       "      <td>2010-07-27</td>\n",
       "      <td>117.60</td>\n",
       "      <td>119.50</td>\n",
       "      <td>112.00</td>\n",
       "      <td>118.80</td>\n",
       "      <td>118.65</td>\n",
       "      <td>586100</td>\n",
       "      <td>694.98</td>\n",
       "    </tr>\n",
       "    <tr>\n",
       "      <th>2031</th>\n",
       "      <td>2010-07-26</td>\n",
       "      <td>120.10</td>\n",
       "      <td>121.00</td>\n",
       "      <td>117.10</td>\n",
       "      <td>117.10</td>\n",
       "      <td>117.60</td>\n",
       "      <td>658440</td>\n",
       "      <td>780.01</td>\n",
       "    </tr>\n",
       "    <tr>\n",
       "      <th>2032</th>\n",
       "      <td>2010-07-23</td>\n",
       "      <td>121.80</td>\n",
       "      <td>121.95</td>\n",
       "      <td>120.25</td>\n",
       "      <td>120.35</td>\n",
       "      <td>120.65</td>\n",
       "      <td>281312</td>\n",
       "      <td>340.31</td>\n",
       "    </tr>\n",
       "    <tr>\n",
       "      <th>2033</th>\n",
       "      <td>2010-07-22</td>\n",
       "      <td>120.30</td>\n",
       "      <td>122.00</td>\n",
       "      <td>120.25</td>\n",
       "      <td>120.75</td>\n",
       "      <td>120.90</td>\n",
       "      <td>293312</td>\n",
       "      <td>355.17</td>\n",
       "    </tr>\n",
       "    <tr>\n",
       "      <th>2034</th>\n",
       "      <td>2010-07-21</td>\n",
       "      <td>122.10</td>\n",
       "      <td>123.00</td>\n",
       "      <td>121.05</td>\n",
       "      <td>121.10</td>\n",
       "      <td>121.55</td>\n",
       "      <td>658666</td>\n",
       "      <td>803.56</td>\n",
       "    </tr>\n",
       "  </tbody>\n",
       "</table>\n",
       "<p>2035 rows × 8 columns</p>\n",
       "</div>"
      ],
      "text/plain": [
       "            Date    Open    High     Low    Last   Close  \\\n",
       "0     2018-09-28  234.05  235.95  230.20  233.50  233.75   \n",
       "1     2018-09-27  234.55  236.80  231.10  233.80  233.25   \n",
       "2     2018-09-26  240.00  240.00  232.50  235.00  234.25   \n",
       "3     2018-09-25  233.30  236.75  232.00  236.25  236.10   \n",
       "4     2018-09-24  233.55  239.20  230.75  234.00  233.30   \n",
       "...          ...     ...     ...     ...     ...     ...   \n",
       "2030  2010-07-27  117.60  119.50  112.00  118.80  118.65   \n",
       "2031  2010-07-26  120.10  121.00  117.10  117.10  117.60   \n",
       "2032  2010-07-23  121.80  121.95  120.25  120.35  120.65   \n",
       "2033  2010-07-22  120.30  122.00  120.25  120.75  120.90   \n",
       "2034  2010-07-21  122.10  123.00  121.05  121.10  121.55   \n",
       "\n",
       "      Total Trade Quantity  Turnover (Lacs)  \n",
       "0                  3069914          7162.35  \n",
       "1                  5082859         11859.95  \n",
       "2                  2240909          5248.60  \n",
       "3                  2349368          5503.90  \n",
       "4                  3423509          7999.55  \n",
       "...                    ...              ...  \n",
       "2030                586100           694.98  \n",
       "2031                658440           780.01  \n",
       "2032                281312           340.31  \n",
       "2033                293312           355.17  \n",
       "2034                658666           803.56  \n",
       "\n",
       "[2035 rows x 8 columns]"
      ]
     },
     "execution_count": 3,
     "metadata": {},
     "output_type": "execute_result"
    }
   ],
   "source": [
    "data = pd.read_csv(r'C:\\Users\\HP\\Desktop\\LGM\\NSE-TATAGLOBAL.csv')\n",
    "data"
   ]
  },
  {
   "cell_type": "code",
   "execution_count": 4,
   "id": "0d260a9b",
   "metadata": {},
   "outputs": [
    {
     "data": {
      "text/html": [
       "<div>\n",
       "<style scoped>\n",
       "    .dataframe tbody tr th:only-of-type {\n",
       "        vertical-align: middle;\n",
       "    }\n",
       "\n",
       "    .dataframe tbody tr th {\n",
       "        vertical-align: top;\n",
       "    }\n",
       "\n",
       "    .dataframe thead th {\n",
       "        text-align: right;\n",
       "    }\n",
       "</style>\n",
       "<table border=\"1\" class=\"dataframe\">\n",
       "  <thead>\n",
       "    <tr style=\"text-align: right;\">\n",
       "      <th></th>\n",
       "      <th>Date</th>\n",
       "      <th>Open</th>\n",
       "      <th>High</th>\n",
       "      <th>Low</th>\n",
       "      <th>Last</th>\n",
       "      <th>Close</th>\n",
       "      <th>Total Trade Quantity</th>\n",
       "      <th>Turnover (Lacs)</th>\n",
       "    </tr>\n",
       "  </thead>\n",
       "  <tbody>\n",
       "    <tr>\n",
       "      <th>2030</th>\n",
       "      <td>2010-07-27</td>\n",
       "      <td>117.6</td>\n",
       "      <td>119.50</td>\n",
       "      <td>112.00</td>\n",
       "      <td>118.80</td>\n",
       "      <td>118.65</td>\n",
       "      <td>586100</td>\n",
       "      <td>694.98</td>\n",
       "    </tr>\n",
       "    <tr>\n",
       "      <th>2031</th>\n",
       "      <td>2010-07-26</td>\n",
       "      <td>120.1</td>\n",
       "      <td>121.00</td>\n",
       "      <td>117.10</td>\n",
       "      <td>117.10</td>\n",
       "      <td>117.60</td>\n",
       "      <td>658440</td>\n",
       "      <td>780.01</td>\n",
       "    </tr>\n",
       "    <tr>\n",
       "      <th>2032</th>\n",
       "      <td>2010-07-23</td>\n",
       "      <td>121.8</td>\n",
       "      <td>121.95</td>\n",
       "      <td>120.25</td>\n",
       "      <td>120.35</td>\n",
       "      <td>120.65</td>\n",
       "      <td>281312</td>\n",
       "      <td>340.31</td>\n",
       "    </tr>\n",
       "    <tr>\n",
       "      <th>2033</th>\n",
       "      <td>2010-07-22</td>\n",
       "      <td>120.3</td>\n",
       "      <td>122.00</td>\n",
       "      <td>120.25</td>\n",
       "      <td>120.75</td>\n",
       "      <td>120.90</td>\n",
       "      <td>293312</td>\n",
       "      <td>355.17</td>\n",
       "    </tr>\n",
       "    <tr>\n",
       "      <th>2034</th>\n",
       "      <td>2010-07-21</td>\n",
       "      <td>122.1</td>\n",
       "      <td>123.00</td>\n",
       "      <td>121.05</td>\n",
       "      <td>121.10</td>\n",
       "      <td>121.55</td>\n",
       "      <td>658666</td>\n",
       "      <td>803.56</td>\n",
       "    </tr>\n",
       "  </tbody>\n",
       "</table>\n",
       "</div>"
      ],
      "text/plain": [
       "            Date   Open    High     Low    Last   Close  Total Trade Quantity  \\\n",
       "2030  2010-07-27  117.6  119.50  112.00  118.80  118.65                586100   \n",
       "2031  2010-07-26  120.1  121.00  117.10  117.10  117.60                658440   \n",
       "2032  2010-07-23  121.8  121.95  120.25  120.35  120.65                281312   \n",
       "2033  2010-07-22  120.3  122.00  120.25  120.75  120.90                293312   \n",
       "2034  2010-07-21  122.1  123.00  121.05  121.10  121.55                658666   \n",
       "\n",
       "      Turnover (Lacs)  \n",
       "2030           694.98  \n",
       "2031           780.01  \n",
       "2032           340.31  \n",
       "2033           355.17  \n",
       "2034           803.56  "
      ]
     },
     "execution_count": 4,
     "metadata": {},
     "output_type": "execute_result"
    }
   ],
   "source": [
    "data.tail()"
   ]
  },
  {
   "cell_type": "code",
   "execution_count": 5,
   "id": "b0ac6d59",
   "metadata": {},
   "outputs": [
    {
     "data": {
      "text/plain": [
       "Text(0, 0.5, 'Close')"
      ]
     },
     "execution_count": 5,
     "metadata": {},
     "output_type": "execute_result"
    },
    {
     "data": {
      "image/png": "[encoded data removed]",
      "text/plain": [
       "<Figure size 720x288 with 1 Axes>"
      ]
     },
     "metadata": {
      "needs_background": "light"
     },
     "output_type": "display_data"
    }
   ],
   "source": [
    "plt.figure(figsize = (10,4))\n",
    "plt.title('Tata Stocks Closing Price', color='Blue')\n",
    "plt.plot(data['Close'], color='Black')\n",
    "plt.xlabel('Date',fontsize=20, color='Blue')\n",
    "plt.ylabel('Close',fontsize=20, color='Blue')"
   ]
  },
  {
   "cell_type": "code",
   "execution_count": 6,
   "id": "0a417aad",
   "metadata": {},
   "outputs": [
    {
     "data": {
      "text/plain": [
       "0    233.75\n",
       "1    233.25\n",
       "2    234.25\n",
       "3    236.10\n",
       "4    233.30\n",
       "Name: Close, dtype: float64"
      ]
     },
     "execution_count": 6,
     "metadata": {},
     "output_type": "execute_result"
    }
   ],
   "source": [
    "data_close = data.reset_index()['Close']\n",
    "data_close.head()"
   ]
  },
  {
   "cell_type": "code",
   "execution_count": 7,
   "id": "c175e1f8",
   "metadata": {},
   "outputs": [],
   "source": [
    "from sklearn.preprocessing import MinMaxScaler \n",
    "import math \n",
    "import seaborn as sb \n",
    "from sklearn.metrics import mean_squared_error"
   ]
  },
  {
   "cell_type": "code",
   "execution_count": 8,
   "id": "57b0cd9c",
   "metadata": {},
   "outputs": [
    {
     "data": {
      "text/plain": [
       "array([[0.62418301],\n",
       "       [0.62214052],\n",
       "       [0.62622549],\n",
       "       ...,\n",
       "       [0.1621732 ],\n",
       "       [0.16319444],\n",
       "       [0.16584967]])"
      ]
     },
     "execution_count": 8,
     "metadata": {},
     "output_type": "execute_result"
    }
   ],
   "source": [
    "scaler = MinMaxScaler(feature_range = (0, 1))\n",
    "data_close = scaler.fit_transform(np.array(data_close).reshape(-1, 1))\n",
    "data_close"
   ]
  },
  {
   "cell_type": "markdown",
   "id": "84d502a2",
   "metadata": {},
   "source": [
    "# Training data 85 % and Testing data 15%"
   ]
  },
  {
   "cell_type": "code",
   "execution_count": 9,
   "id": "80e5755b",
   "metadata": {},
   "outputs": [
    {
     "data": {
      "text/plain": [
       "(1729, 306)"
      ]
     },
     "execution_count": 9,
     "metadata": {},
     "output_type": "execute_result"
    }
   ],
   "source": [
    "\n",
    "train_size = int(len(data_close) * 0.85)\n",
    "test_size = len(data_close) - train_size\n",
    "train_data, test_data = data_close[0 : train_size, :], data_close[train_size : len(data_close), : 1]\n",
    "train_size, test_size"
   ]
  },
  {
   "cell_type": "code",
   "execution_count": 10,
   "id": "6ecc846f",
   "metadata": {},
   "outputs": [
    {
     "data": {
      "text/plain": [
       "array([[0.62418301],\n",
       "       [0.62214052],\n",
       "       [0.62622549],\n",
       "       ...,\n",
       "       [0.02920752],\n",
       "       [0.02328431],\n",
       "       [0.01919935]])"
      ]
     },
     "execution_count": 10,
     "metadata": {},
     "output_type": "execute_result"
    }
   ],
   "source": [
    "train_data"
   ]
  },
  {
   "cell_type": "markdown",
   "id": "76d26254",
   "metadata": {},
   "source": [
    "# The above data is related to time series Dataset's"
   ]
  },
  {
   "cell_type": "code",
   "execution_count": 11,
   "id": "d67daf14",
   "metadata": {},
   "outputs": [],
   "source": [
    "def create_dataset(dataset, time_step = 1):\n",
    "    X_data, Y_data = [], []\n",
    "    for i in range(len(dataset) - time_step - 1):\n",
    "\t    a = dataset[i : (i + time_step), 0] \n",
    "\t    X_data.append(a)\n",
    "\t    Y_data.append(dataset[i + time_step, 0])\n",
    "    return np.array(X_data), np.array(Y_data)"
   ]
  },
  {
   "cell_type": "code",
   "execution_count": 12,
   "id": "0cc2d8ed",
   "metadata": {},
   "outputs": [],
   "source": [
    "time_step = 100\n",
    "X_train, Y_train = create_dataset(train_data, time_step)\n",
    "X_test, Y_test = create_dataset(test_data, time_step)"
   ]
  },
  {
   "cell_type": "code",
   "execution_count": 13,
   "id": "230e74a7",
   "metadata": {},
   "outputs": [
    {
     "name": "stdout",
     "output_type": "stream",
     "text": [
      "(1628, 100) (1628,)\n",
      "(205, 100) (205,)\n"
     ]
    }
   ],
   "source": [
    "print(X_train.shape, Y_train.shape)\n",
    "print(X_test.shape, Y_test.shape)"
   ]
  },
  {
   "cell_type": "code",
   "execution_count": 14,
   "id": "0b11d5e1",
   "metadata": {},
   "outputs": [],
   "source": [
    "X_train = X_train.reshape(X_train.shape[0], X_train.shape[1] , 1)\n",
    "X_test = X_test.reshape(X_test.shape[0], X_test.shape[1] , 1)"
   ]
  },
  {
   "cell_type": "code",
   "execution_count": 15,
   "id": "eaed8da7",
   "metadata": {},
   "outputs": [
    {
     "name": "stdout",
     "output_type": "stream",
     "text": [
      "Requirement already satisfied: keras in c:\\users\\hp\\anaconda3\\lib\\site-packages (2.10.0)\n",
      "Requirement already satisfied: tensorflow in c:\\users\\hp\\anaconda3\\lib\\site-packages (2.10.0)\n",
      "Requirement already satisfied: wrapt>=1.11.0 in c:\\users\\hp\\anaconda3\\lib\\site-packages (from tensorflow) (1.12.1)\n",
      "Requirement already satisfied: astunparse>=1.6.0 in c:\\users\\hp\\anaconda3\\lib\\site-packages (from tensorflow) (1.6.3)\n",
      "Requirement already satisfied: h5py>=2.9.0 in c:\\users\\hp\\anaconda3\\lib\\site-packages (from tensorflow) (2.10.0)\n",
      "Requirement already satisfied: setuptools in c:\\users\\hp\\anaconda3\\lib\\site-packages (from tensorflow) (52.0.0.post20210125)\n",
      "Requirement already satisfied: termcolor>=1.1.0 in c:\\users\\hp\\anaconda3\\lib\\site-packages (from tensorflow) (2.0.1)\n",
      "Requirement already satisfied: numpy>=1.20 in c:\\users\\hp\\anaconda3\\lib\\site-packages (from tensorflow) (1.20.1)\n",
      "Requirement already satisfied: gast<=0.4.0,>=0.2.1 in c:\\users\\hp\\anaconda3\\lib\\site-packages (from tensorflow) (0.4.0)\n",
      "Requirement already satisfied: tensorflow-estimator<2.11,>=2.10.0 in c:\\users\\hp\\anaconda3\\lib\\site-packages (from tensorflow) (2.10.0)\n",
      "Requirement already satisfied: packaging in c:\\users\\hp\\anaconda3\\lib\\site-packages (from tensorflow) (20.9)\n",
      "Requirement already satisfied: flatbuffers>=2.0 in c:\\users\\hp\\anaconda3\\lib\\site-packages (from tensorflow) (22.10.26)\n",
      "Requirement already satisfied: absl-py>=1.0.0 in c:\\users\\hp\\anaconda3\\lib\\site-packages (from tensorflow) (1.3.0)\n",
      "Requirement already satisfied: google-pasta>=0.1.1 in c:\\users\\hp\\anaconda3\\lib\\site-packages (from tensorflow) (0.2.0)\n",
      "Requirement already satisfied: keras<2.11,>=2.10.0 in c:\\users\\hp\\anaconda3\\lib\\site-packages (from tensorflow) (2.10.0)\n",
      "Requirement already satisfied: grpcio<2.0,>=1.24.3 in c:\\users\\hp\\anaconda3\\lib\\site-packages (from tensorflow) (1.50.0)\n",
      "Requirement already satisfied: six>=1.12.0 in c:\\users\\hp\\anaconda3\\lib\\site-packages (from tensorflow) (1.15.0)\n",
      "Requirement already satisfied: keras-preprocessing>=1.1.1 in c:\\users\\hp\\anaconda3\\lib\\site-packages (from tensorflow) (1.1.2)\n",
      "Requirement already satisfied: libclang>=13.0.0 in c:\\users\\hp\\anaconda3\\lib\\site-packages (from tensorflow) (14.0.6)\n",
      "Requirement already satisfied: protobuf<3.20,>=3.9.2 in c:\\users\\hp\\anaconda3\\lib\\site-packages (from tensorflow) (3.19.6)\n",
      "Requirement already satisfied: opt-einsum>=2.3.2 in c:\\users\\hp\\anaconda3\\lib\\site-packages (from tensorflow) (3.3.0)\n",
      "Requirement already satisfied: typing-extensions>=3.6.6 in c:\\users\\hp\\anaconda3\\lib\\site-packages (from tensorflow) (3.7.4.3)\n",
      "Requirement already satisfied: tensorboard<2.11,>=2.10 in c:\\users\\hp\\anaconda3\\lib\\site-packages (from tensorflow) (2.10.1)\n",
      "Requirement already satisfied: tensorflow-io-gcs-filesystem>=0.23.1 in c:\\users\\hp\\anaconda3\\lib\\site-packages (from tensorflow) (0.27.0)\n",
      "Requirement already satisfied: wheel<1.0,>=0.23.0 in c:\\users\\hp\\anaconda3\\lib\\site-packages (from astunparse>=1.6.0->tensorflow) (0.36.2)\n",
      "Requirement already satisfied: markdown>=2.6.8 in c:\\users\\hp\\anaconda3\\lib\\site-packages (from tensorboard<2.11,>=2.10->tensorflow) (3.4.1)\n",
      "Requirement already satisfied: tensorboard-data-server<0.7.0,>=0.6.0 in c:\\users\\hp\\anaconda3\\lib\\site-packages (from tensorboard<2.11,>=2.10->tensorflow) (0.6.1)\n",
      "Requirement already satisfied: google-auth-oauthlib<0.5,>=0.4.1 in c:\\users\\hp\\anaconda3\\lib\\site-packages (from tensorboard<2.11,>=2.10->tensorflow) (0.4.6)\n",
      "Requirement already satisfied: requests<3,>=2.21.0 in c:\\users\\hp\\anaconda3\\lib\\site-packages (from tensorboard<2.11,>=2.10->tensorflow) (2.25.1)\n",
      "Requirement already satisfied: werkzeug>=1.0.1 in c:\\users\\hp\\anaconda3\\lib\\site-packages (from tensorboard<2.11,>=2.10->tensorflow) (1.0.1)\n",
      "Requirement already satisfied: google-auth<3,>=1.6.3 in c:\\users\\hp\\anaconda3\\lib\\site-packages (from tensorboard<2.11,>=2.10->tensorflow) (2.13.0)\n",
      "Requirement already satisfied: tensorboard-plugin-wit>=1.6.0 in c:\\users\\hp\\anaconda3\\lib\\site-packages (from tensorboard<2.11,>=2.10->tensorflow) (1.8.1)\n",
      "Requirement already satisfied: cachetools<6.0,>=2.0.0 in c:\\users\\hp\\anaconda3\\lib\\site-packages (from google-auth<3,>=1.6.3->tensorboard<2.11,>=2.10->tensorflow) (5.2.0)\n",
      "Requirement already satisfied: rsa<5,>=3.1.4 in c:\\users\\hp\\anaconda3\\lib\\site-packages (from google-auth<3,>=1.6.3->tensorboard<2.11,>=2.10->tensorflow) (4.9)\n",
      "Requirement already satisfied: pyasn1-modules>=0.2.1 in c:\\users\\hp\\anaconda3\\lib\\site-packages (from google-auth<3,>=1.6.3->tensorboard<2.11,>=2.10->tensorflow) (0.2.8)\n",
      "Requirement already satisfied: requests-oauthlib>=0.7.0 in c:\\users\\hp\\anaconda3\\lib\\site-packages (from google-auth-oauthlib<0.5,>=0.4.1->tensorboard<2.11,>=2.10->tensorflow) (1.3.1)\n",
      "Requirement already satisfied: importlib-metadata>=4.4 in c:\\users\\hp\\anaconda3\\lib\\site-packages (from markdown>=2.6.8->tensorboard<2.11,>=2.10->tensorflow) (5.0.0)\n",
      "Requirement already satisfied: zipp>=0.5 in c:\\users\\hp\\anaconda3\\lib\\site-packages (from importlib-metadata>=4.4->markdown>=2.6.8->tensorboard<2.11,>=2.10->tensorflow) (3.4.1)\n",
      "Requirement already satisfied: pyasn1<0.5.0,>=0.4.6 in c:\\users\\hp\\anaconda3\\lib\\site-packages (from pyasn1-modules>=0.2.1->google-auth<3,>=1.6.3->tensorboard<2.11,>=2.10->tensorflow) (0.4.8)\n",
      "Requirement already satisfied: chardet<5,>=3.0.2 in c:\\users\\hp\\anaconda3\\lib\\site-packages (from requests<3,>=2.21.0->tensorboard<2.11,>=2.10->tensorflow) (4.0.0)\n",
      "Requirement already satisfied: idna<3,>=2.5 in c:\\users\\hp\\anaconda3\\lib\\site-packages (from requests<3,>=2.21.0->tensorboard<2.11,>=2.10->tensorflow) (2.10)\n",
      "Requirement already satisfied: urllib3<1.27,>=1.21.1 in c:\\users\\hp\\anaconda3\\lib\\site-packages (from requests<3,>=2.21.0->tensorboard<2.11,>=2.10->tensorflow) (1.26.4)\n",
      "Requirement already satisfied: certifi>=2017.4.17 in c:\\users\\hp\\anaconda3\\lib\\site-packages (from requests<3,>=2.21.0->tensorboard<2.11,>=2.10->tensorflow) (2020.12.5)\n",
      "Requirement already satisfied: oauthlib>=3.0.0 in c:\\users\\hp\\anaconda3\\lib\\site-packages (from requests-oauthlib>=0.7.0->google-auth-oauthlib<0.5,>=0.4.1->tensorboard<2.11,>=2.10->tensorflow) (3.2.2)\n",
      "Requirement already satisfied: pyparsing>=2.0.2 in c:\\users\\hp\\anaconda3\\lib\\site-packages (from packaging->tensorflow) (2.4.7)\n"
     ]
    }
   ],
   "source": [
    "!pip install keras\n",
    "!pip install tensorflow\n",
    "from keras.models import Sequential \n",
    "from keras.layers import Dense, LSTM "
   ]
  },
  {
   "cell_type": "markdown",
   "id": "84acde2f",
   "metadata": {},
   "source": [
    "# Now tarting LSTM Model\n"
   ]
  },
  {
   "cell_type": "code",
   "execution_count": 16,
   "id": "077c3d2f",
   "metadata": {},
   "outputs": [],
   "source": [
    "lst = Sequential()\n",
    "lst.add(LSTM(50,return_sequences = True, input_shape = (100, 1)))\n",
    "lst.add(LSTM(50, return_sequences = True))\n",
    "lst.add(LSTM(50))\n",
    "lst.add(Dense(1))\n",
    "lst.compile(loss = 'mean_squared_error', optimizer='adam')"
   ]
  },
  {
   "cell_type": "code",
   "execution_count": 17,
   "id": "74fd8c95",
   "metadata": {},
   "outputs": [
    {
     "name": "stdout",
     "output_type": "stream",
     "text": [
      "Model: \"sequential\"\n",
      "_________________________________________________________________\n",
      " Layer (type)                Output Shape              Param #   \n",
      "=================================================================\n",
      " lstm (LSTM)                 (None, 100, 50)           10400     \n",
      "                                                                 \n",
      " lstm_1 (LSTM)               (None, 100, 50)           20200     \n",
      "                                                                 \n",
      " lstm_2 (LSTM)               (None, 50)                20200     \n",
      "                                                                 \n",
      " dense (Dense)               (None, 1)                 51        \n",
      "                                                                 \n",
      "=================================================================\n",
      "Total params: 50,851\n",
      "Trainable params: 50,851\n",
      "Non-trainable params: 0\n",
      "_________________________________________________________________\n"
     ]
    }
   ],
   "source": [
    "lst.summary()"
   ]
  },
  {
   "cell_type": "code",
   "execution_count": 19,
   "id": "6373a4b5",
   "metadata": {},
   "outputs": [
    {
     "name": "stdout",
     "output_type": "stream",
     "text": [
      "Epoch 1/100\n",
      "26/26 [==============================] - 18s 327ms/step - loss: 0.0223 - val_loss: 0.0063\n",
      "Epoch 2/100\n",
      "26/26 [==============================] - 6s 226ms/step - loss: 0.0027 - val_loss: 5.8127e-04\n",
      "Epoch 3/100\n",
      "26/26 [==============================] - 6s 212ms/step - loss: 0.0016 - val_loss: 5.5578e-04\n",
      "Epoch 4/100\n",
      "26/26 [==============================] - 6s 217ms/step - loss: 0.0015 - val_loss: 4.8417e-04\n",
      "Epoch 5/100\n",
      "26/26 [==============================] - 6s 221ms/step - loss: 0.0014 - val_loss: 4.7291e-04\n",
      "Epoch 6/100\n",
      "26/26 [==============================] - 6s 220ms/step - loss: 0.0013 - val_loss: 4.4108e-04\n",
      "Epoch 7/100\n",
      "26/26 [==============================] - 6s 226ms/step - loss: 0.0013 - val_loss: 4.4877e-04\n",
      "Epoch 8/100\n",
      "26/26 [==============================] - 6s 224ms/step - loss: 0.0012 - val_loss: 4.8960e-04\n",
      "Epoch 9/100\n",
      "26/26 [==============================] - 6s 221ms/step - loss: 0.0012 - val_loss: 4.0158e-04\n",
      "Epoch 10/100\n",
      "26/26 [==============================] - 6s 227ms/step - loss: 0.0012 - val_loss: 3.8727e-04\n",
      "Epoch 11/100\n",
      "26/26 [==============================] - 6s 222ms/step - loss: 0.0011 - val_loss: 3.8079e-04\n",
      "Epoch 12/100\n",
      "26/26 [==============================] - 6s 225ms/step - loss: 0.0010 - val_loss: 4.0472e-04\n",
      "Epoch 13/100\n",
      "26/26 [==============================] - 6s 230ms/step - loss: 9.0910e-04 - val_loss: 3.6092e-04\n",
      "Epoch 14/100\n",
      "26/26 [==============================] - 6s 222ms/step - loss: 0.0010 - val_loss: 4.1045e-04\n",
      "Epoch 15/100\n",
      "26/26 [==============================] - 6s 220ms/step - loss: 9.9019e-04 - val_loss: 4.5757e-04\n",
      "Epoch 16/100\n",
      "26/26 [==============================] - 6s 231ms/step - loss: 9.8009e-04 - val_loss: 3.6150e-04\n",
      "Epoch 17/100\n",
      "26/26 [==============================] - 6s 222ms/step - loss: 7.8272e-04 - val_loss: 3.4939e-04\n",
      "Epoch 18/100\n",
      "26/26 [==============================] - 6s 227ms/step - loss: 7.7466e-04 - val_loss: 3.3464e-04\n",
      "Epoch 19/100\n",
      "26/26 [==============================] - 6s 222ms/step - loss: 7.3635e-04 - val_loss: 3.2417e-04\n",
      "Epoch 20/100\n",
      "26/26 [==============================] - 6s 220ms/step - loss: 7.5337e-04 - val_loss: 3.3195e-04\n",
      "Epoch 21/100\n",
      "26/26 [==============================] - 6s 222ms/step - loss: 7.1921e-04 - val_loss: 3.1825e-04\n",
      "Epoch 22/100\n",
      "26/26 [==============================] - 6s 220ms/step - loss: 6.8624e-04 - val_loss: 3.1163e-04\n",
      "Epoch 23/100\n",
      "26/26 [==============================] - 6s 217ms/step - loss: 6.6880e-04 - val_loss: 3.0399e-04\n",
      "Epoch 24/100\n",
      "26/26 [==============================] - 6s 224ms/step - loss: 6.8333e-04 - val_loss: 3.0228e-04\n",
      "Epoch 25/100\n",
      "26/26 [==============================] - 6s 219ms/step - loss: 6.2501e-04 - val_loss: 3.2220e-04\n",
      "Epoch 26/100\n",
      "26/26 [==============================] - 6s 220ms/step - loss: 6.6968e-04 - val_loss: 3.2345e-04\n",
      "Epoch 27/100\n",
      "26/26 [==============================] - 6s 226ms/step - loss: 5.7884e-04 - val_loss: 2.8623e-04\n",
      "Epoch 28/100\n",
      "26/26 [==============================] - 6s 219ms/step - loss: 5.6396e-04 - val_loss: 2.8486e-04\n",
      "Epoch 29/100\n",
      "26/26 [==============================] - 6s 221ms/step - loss: 6.1164e-04 - val_loss: 2.7876e-04\n",
      "Epoch 30/100\n",
      "26/26 [==============================] - 6s 213ms/step - loss: 5.5626e-04 - val_loss: 2.7409e-04\n",
      "Epoch 31/100\n",
      "26/26 [==============================] - 6s 212ms/step - loss: 5.3448e-04 - val_loss: 2.6749e-04\n",
      "Epoch 32/100\n",
      "26/26 [==============================] - 6s 221ms/step - loss: 5.1217e-04 - val_loss: 2.7831e-04\n",
      "Epoch 33/100\n",
      "26/26 [==============================] - 6s 211ms/step - loss: 5.0817e-04 - val_loss: 2.7354e-04\n",
      "Epoch 34/100\n",
      "26/26 [==============================] - 6s 214ms/step - loss: 5.0556e-04 - val_loss: 2.5459e-04\n",
      "Epoch 35/100\n",
      "26/26 [==============================] - 6s 222ms/step - loss: 4.8890e-04 - val_loss: 2.5985e-04\n",
      "Epoch 36/100\n",
      "26/26 [==============================] - 6s 226ms/step - loss: 5.7925e-04 - val_loss: 2.8415e-04\n",
      "Epoch 37/100\n",
      "26/26 [==============================] - 6s 218ms/step - loss: 5.3872e-04 - val_loss: 2.4831e-04\n",
      "Epoch 38/100\n",
      "26/26 [==============================] - 6s 220ms/step - loss: 4.5490e-04 - val_loss: 2.4275e-04\n",
      "Epoch 39/100\n",
      "26/26 [==============================] - 6s 212ms/step - loss: 4.4444e-04 - val_loss: 2.6752e-04\n",
      "Epoch 40/100\n",
      "26/26 [==============================] - 6s 214ms/step - loss: 5.0596e-04 - val_loss: 2.4585e-04\n",
      "Epoch 41/100\n",
      "26/26 [==============================] - 6s 224ms/step - loss: 4.4505e-04 - val_loss: 2.3198e-04\n",
      "Epoch 42/100\n",
      "26/26 [==============================] - 6s 213ms/step - loss: 5.8979e-04 - val_loss: 2.3681e-04\n",
      "Epoch 43/100\n",
      "26/26 [==============================] - 6s 214ms/step - loss: 4.3980e-04 - val_loss: 2.4886e-04\n",
      "Epoch 44/100\n",
      "26/26 [==============================] - 6s 219ms/step - loss: 4.5624e-04 - val_loss: 2.2218e-04\n",
      "Epoch 45/100\n",
      "26/26 [==============================] - 6s 213ms/step - loss: 4.0171e-04 - val_loss: 2.3082e-04\n",
      "Epoch 46/100\n",
      "26/26 [==============================] - 6s 227ms/step - loss: 5.0517e-04 - val_loss: 2.2940e-04\n",
      "Epoch 47/100\n",
      "26/26 [==============================] - 6s 222ms/step - loss: 5.0360e-04 - val_loss: 2.7686e-04\n",
      "Epoch 48/100\n",
      "26/26 [==============================] - 6s 212ms/step - loss: 4.1121e-04 - val_loss: 2.6457e-04\n",
      "Epoch 49/100\n",
      "26/26 [==============================] - 6s 220ms/step - loss: 3.9168e-04 - val_loss: 2.3541e-04\n",
      "Epoch 50/100\n",
      "26/26 [==============================] - 6s 212ms/step - loss: 3.6136e-04 - val_loss: 2.0601e-04\n",
      "Epoch 51/100\n",
      "26/26 [==============================] - 6s 215ms/step - loss: 3.5406e-04 - val_loss: 2.0901e-04\n",
      "Epoch 52/100\n",
      "26/26 [==============================] - 6s 224ms/step - loss: 3.5560e-04 - val_loss: 2.2583e-04\n",
      "Epoch 53/100\n",
      "26/26 [==============================] - 5s 199ms/step - loss: 3.4994e-04 - val_loss: 2.0080e-04\n",
      "Epoch 54/100\n",
      "26/26 [==============================] - 5s 191ms/step - loss: 3.3135e-04 - val_loss: 1.9341e-04\n",
      "Epoch 55/100\n",
      "26/26 [==============================] - 5s 201ms/step - loss: 3.5235e-04 - val_loss: 1.9509e-04\n",
      "Epoch 56/100\n",
      "26/26 [==============================] - 5s 203ms/step - loss: 3.5126e-04 - val_loss: 1.8946e-04\n",
      "Epoch 57/100\n",
      "26/26 [==============================] - 6s 223ms/step - loss: 2.9732e-04 - val_loss: 1.8456e-04\n",
      "Epoch 58/100\n",
      "26/26 [==============================] - 6s 239ms/step - loss: 3.1526e-04 - val_loss: 1.8923e-04\n",
      "Epoch 59/100\n",
      "26/26 [==============================] - 6s 242ms/step - loss: 2.9980e-04 - val_loss: 2.0097e-04\n",
      "Epoch 60/100\n",
      "26/26 [==============================] - 6s 224ms/step - loss: 2.8174e-04 - val_loss: 1.7682e-04\n",
      "Epoch 61/100\n",
      "26/26 [==============================] - 6s 222ms/step - loss: 2.8847e-04 - val_loss: 1.9141e-04\n",
      "Epoch 62/100\n",
      "26/26 [==============================] - 6s 221ms/step - loss: 2.8349e-04 - val_loss: 1.9080e-04\n",
      "Epoch 63/100\n",
      "26/26 [==============================] - 6s 224ms/step - loss: 3.1802e-04 - val_loss: 1.7146e-04\n",
      "Epoch 64/100\n",
      "26/26 [==============================] - 6s 224ms/step - loss: 2.7925e-04 - val_loss: 2.4709e-04\n",
      "Epoch 65/100\n",
      "26/26 [==============================] - 6s 224ms/step - loss: 2.7010e-04 - val_loss: 2.0178e-04\n",
      "Epoch 66/100\n",
      "26/26 [==============================] - 6s 227ms/step - loss: 2.8230e-04 - val_loss: 1.6301e-04\n",
      "Epoch 67/100\n",
      "26/26 [==============================] - 6s 213ms/step - loss: 2.7184e-04 - val_loss: 1.9769e-04\n",
      "Epoch 68/100\n",
      "26/26 [==============================] - 6s 212ms/step - loss: 2.9046e-04 - val_loss: 1.8543e-04\n",
      "Epoch 69/100\n",
      "26/26 [==============================] - 6s 230ms/step - loss: 2.9264e-04 - val_loss: 1.7440e-04\n",
      "Epoch 70/100\n",
      "26/26 [==============================] - 6s 221ms/step - loss: 2.9277e-04 - val_loss: 1.5691e-04\n",
      "Epoch 71/100\n",
      "26/26 [==============================] - 6s 241ms/step - loss: 3.1850e-04 - val_loss: 1.5727e-04\n",
      "Epoch 72/100\n",
      "26/26 [==============================] - 6s 244ms/step - loss: 2.4661e-04 - val_loss: 1.5884e-04\n",
      "Epoch 73/100\n",
      "26/26 [==============================] - 6s 227ms/step - loss: 2.7782e-04 - val_loss: 1.5170e-04\n",
      "Epoch 74/100\n",
      "26/26 [==============================] - 6s 227ms/step - loss: 2.4238e-04 - val_loss: 1.5753e-04\n",
      "Epoch 75/100\n",
      "26/26 [==============================] - 6s 212ms/step - loss: 2.4645e-04 - val_loss: 1.5565e-04\n",
      "Epoch 76/100\n"
     ]
    },
    {
     "name": "stdout",
     "output_type": "stream",
     "text": [
      "26/26 [==============================] - 6s 213ms/step - loss: 2.3842e-04 - val_loss: 1.4797e-04\n",
      "Epoch 77/100\n",
      "26/26 [==============================] - 6s 219ms/step - loss: 2.3123e-04 - val_loss: 1.5193e-04\n",
      "Epoch 78/100\n",
      "26/26 [==============================] - 5s 202ms/step - loss: 2.4628e-04 - val_loss: 1.4799e-04\n",
      "Epoch 79/100\n",
      "26/26 [==============================] - 5s 195ms/step - loss: 2.5862e-04 - val_loss: 1.6153e-04\n",
      "Epoch 80/100\n",
      "26/26 [==============================] - 5s 202ms/step - loss: 3.5088e-04 - val_loss: 2.2803e-04\n",
      "Epoch 81/100\n",
      "26/26 [==============================] - 5s 201ms/step - loss: 2.9989e-04 - val_loss: 2.0336e-04\n",
      "Epoch 82/100\n",
      "26/26 [==============================] - 6s 232ms/step - loss: 3.3883e-04 - val_loss: 1.4493e-04\n",
      "Epoch 83/100\n",
      "26/26 [==============================] - 6s 232ms/step - loss: 2.4393e-04 - val_loss: 1.3977e-04\n",
      "Epoch 84/100\n",
      "26/26 [==============================] - 6s 218ms/step - loss: 2.2155e-04 - val_loss: 1.4079e-04\n",
      "Epoch 85/100\n",
      "26/26 [==============================] - 6s 215ms/step - loss: 2.2572e-04 - val_loss: 1.3764e-04\n",
      "Epoch 86/100\n",
      "26/26 [==============================] - 5s 211ms/step - loss: 2.0909e-04 - val_loss: 1.3359e-04\n",
      "Epoch 87/100\n",
      "26/26 [==============================] - 5s 199ms/step - loss: 2.3429e-04 - val_loss: 1.6151e-04\n",
      "Epoch 88/100\n",
      "26/26 [==============================] - 5s 199ms/step - loss: 2.6403e-04 - val_loss: 1.7337e-04\n",
      "Epoch 89/100\n",
      "26/26 [==============================] - 6s 229ms/step - loss: 2.2706e-04 - val_loss: 1.3226e-04\n",
      "Epoch 90/100\n",
      "26/26 [==============================] - 6s 231ms/step - loss: 2.4404e-04 - val_loss: 1.2980e-04\n",
      "Epoch 91/100\n",
      "26/26 [==============================] - 7s 282ms/step - loss: 2.0367e-04 - val_loss: 1.2992e-04\n",
      "Epoch 92/100\n",
      "26/26 [==============================] - 7s 276ms/step - loss: 2.2372e-04 - val_loss: 1.7383e-04\n",
      "Epoch 93/100\n",
      "26/26 [==============================] - 8s 291ms/step - loss: 2.7950e-04 - val_loss: 1.2835e-04\n",
      "Epoch 94/100\n",
      "26/26 [==============================] - 7s 266ms/step - loss: 2.4574e-04 - val_loss: 1.2949e-04\n",
      "Epoch 95/100\n",
      "26/26 [==============================] - 6s 241ms/step - loss: 2.3600e-04 - val_loss: 1.2557e-04\n",
      "Epoch 96/100\n",
      "26/26 [==============================] - 6s 230ms/step - loss: 2.1262e-04 - val_loss: 1.2288e-04\n",
      "Epoch 97/100\n",
      "26/26 [==============================] - 6s 226ms/step - loss: 2.3593e-04 - val_loss: 1.2576e-04\n",
      "Epoch 98/100\n",
      "26/26 [==============================] - 5s 211ms/step - loss: 2.5049e-04 - val_loss: 1.2512e-04\n",
      "Epoch 99/100\n",
      "26/26 [==============================] - 6s 219ms/step - loss: 2.0846e-04 - val_loss: 1.2042e-04\n",
      "Epoch 100/100\n",
      "26/26 [==============================] - 6s 225ms/step - loss: 1.9815e-04 - val_loss: 1.2125e-04\n"
     ]
    },
    {
     "data": {
      "text/plain": [
       "<keras.callbacks.History at 0x1601bb144f0>"
      ]
     },
     "execution_count": 19,
     "metadata": {},
     "output_type": "execute_result"
    }
   ],
   "source": [
    "lst.fit(X_train, Y_train, validation_data = (X_test, Y_test), epochs = 100, batch_size = 64, verbose = 1)"
   ]
  },
  {
   "cell_type": "code",
   "execution_count": 20,
   "id": "b5cfa5b6",
   "metadata": {},
   "outputs": [
    {
     "name": "stdout",
     "output_type": "stream",
     "text": [
      "51/51 [==============================] - 5s 50ms/step\n",
      "7/7 [==============================] - 0s 52ms/step\n"
     ]
    }
   ],
   "source": [
    "train_predict = lst.predict(X_train)\n",
    "test_predict = lst.predict(X_test)"
   ]
  },
  {
   "cell_type": "markdown",
   "id": "9b33c019",
   "metadata": {},
   "source": [
    "# The avove data shows the 1 and 2 prediction "
   ]
  },
  {
   "cell_type": "code",
   "execution_count": 21,
   "id": "0795a602",
   "metadata": {},
   "outputs": [],
   "source": [
    "train_predict = scaler.inverse_transform(train_predict)\n",
    "test_predict = scaler.inverse_transform(test_predict)"
   ]
  },
  {
   "cell_type": "code",
   "execution_count": 22,
   "id": "35c0111f",
   "metadata": {},
   "outputs": [
    {
     "data": {
      "image/png": "[encoded data removed]",
      "text/plain": [
       "<Figure size 432x288 with 1 Axes>"
      ]
     },
     "metadata": {
      "needs_background": "light"
     },
     "output_type": "display_data"
    }
   ],
   "source": [
    "look_back = 100\n",
    "train_num_pyredict_plot = np.empty_like(data_close)\n",
    "train_num_pyredict_plot[:, :] = np.nan\n",
    "train_num_pyredict_plot[look_back : len(train_predict) + look_back, :] = train_predict\n",
    "test_predict_plot = np.empty_like(data_close)\n",
    "test_predict_plot[:, :] = np.nan\n",
    "test_predict_plot[len(train_predict) + (look_back * 2) + 1 : len(data_close) - 1, :] = test_predict\n",
    "plt.plot(scaler.inverse_transform(data_close))\n",
    "plt.plot(train_num_pyredict_plot)\n",
    "plt.plot(test_predict_plot)\n",
    "plt.show()"
   ]
  },
  {
   "cell_type": "code",
   "execution_count": null,
   "id": "4e29bf7c",
   "metadata": {},
   "outputs": [],
   "source": []
  },
  {
   "cell_type": "code",
   "execution_count": null,
   "id": "08b3ac16",
   "metadata": {},
   "outputs": [],
   "source": []
  }
 ],
 "metadata": {
  "kernelspec": {
   "display_name": "Python 3",
   "language": "python",
   "name": "python3"
  },
  "language_info": {
   "codemirror_mode": {
    "name": "ipython",
    "version": 3
   },
   "file_extension": ".py",
   "mimetype": "text/x-python",
   "name": "python",
   "nbconvert_exporter": "python",
   "pygments_lexer": "ipython3",
   "version": "3.8.8"
  }
 },
 "nbformat": 4,
 "nbformat_minor": 5
}
